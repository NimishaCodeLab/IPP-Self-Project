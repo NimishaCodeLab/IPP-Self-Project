{
 "cells": [
  {
   "cell_type": "code",
   "execution_count": 2,
   "metadata": {
    "collapsed": true
   },
   "outputs": [],
   "source": [
    "import pandas as pd"
   ]
  },
  {
   "cell_type": "code",
   "execution_count": 120,
   "metadata": {
    "collapsed": true
   },
   "outputs": [],
   "source": [
    "InstagramDF=pd.read_csv('InstagramDatasetAddedFeaturesVersion3.csv', encoding='utf-8-sig')"
   ]
  },
  {
   "cell_type": "code",
   "execution_count": 121,
   "metadata": {
    "collapsed": true
   },
   "outputs": [],
   "source": [
    "InstagramDF['mean_likes'] = InstagramDF['edge_liked_by'].groupby(InstagramDF['id']).transform('mean')\n",
    "InstagramDF['mean_comments'] = InstagramDF['edge_media_to_comment'].groupby(InstagramDF['id']).transform('mean')"
   ]
  },
  {
   "cell_type": "code",
   "execution_count": 146,
   "metadata": {
    "collapsed": true
   },
   "outputs": [],
   "source": [
    "InstagramDF.to_csv('InstagramDatasetFinal.csv', encoding='utf-8-sig', index=False)"
   ]
  },
  {
   "cell_type": "code",
   "execution_count": 122,
   "metadata": {
    "collapsed": true
   },
   "outputs": [],
   "source": [
    "toDrop = ['biography', 'business_category_name', 'connected_fb_page', 'country_block', 'edge_media_collections', 'edge_saved_media', 'external_url', 'external_url_linkshimmed', 'full_name', 'has_channel', 'id', 'is_joined_recently', 'is_private', 'profile_pic_url', 'profile_pic_url_hd', 'username', 'accessibility_caption', 'display_url', 'edge_media_preview_like', 'edge_media_to_caption', 'location', 'taken_at_timestamp', 'hashtags', 'mentions', 'day', 'HourBin']\n",
    "Regression_Data = InstagramDF.drop(toDrop,axis=1)\n",
    "Regression_Data[\"time_between\"].fillna(0, inplace=True)\n",
    "y=Regression_Data[\"number_of_likes/mean\"]"
   ]
  },
  {
   "cell_type": "code",
   "execution_count": 123,
   "metadata": {},
   "outputs": [
    {
     "name": "stdout",
     "output_type": "stream",
     "text": [
      "<class 'pandas.core.frame.DataFrame'>\n",
      "RangeIndex: 20778 entries, 0 to 20777\n",
      "Data columns (total 50 columns):\n",
      "edge_felix_video_timeline                      20778 non-null int64\n",
      "edge_follow                                    20778 non-null int64\n",
      "edge_followed_by                               20778 non-null int64\n",
      "edge_owner_to_timeline_media                   20778 non-null int64\n",
      "highlight_reel_count                           20778 non-null int64\n",
      "is_business_account                            20778 non-null bool\n",
      "is_verified                                    20778 non-null bool\n",
      "comments_disabled                              20778 non-null bool\n",
      "edge_liked_by                                  20778 non-null int64\n",
      "edge_media_to_comment                          20778 non-null int64\n",
      "is_video                                       20778 non-null bool\n",
      "time_between                                   20778 non-null float64\n",
      "number_of_likes/mean                           20778 non-null float64\n",
      "number_of_likes-median                         20778 non-null float64\n",
      "Friday                                         20778 non-null int64\n",
      "Monday                                         20778 non-null int64\n",
      "Saturday                                       20778 non-null int64\n",
      "Sunday                                         20778 non-null int64\n",
      "Thursday                                       20778 non-null int64\n",
      "Tuesday                                        20778 non-null int64\n",
      "Wednesday                                      20778 non-null int64\n",
      "hour_of_day                                    20778 non-null int64\n",
      "hr_sin                                         20778 non-null float64\n",
      "hr_cos                                         20778 non-null float64\n",
      "(0, 4]                                         20778 non-null int64\n",
      "(4, 8]                                         20778 non-null int64\n",
      "(8, 12]                                        20778 non-null int64\n",
      "(12, 16]                                       20778 non-null int64\n",
      "(16, 20]                                       20778 non-null int64\n",
      "(20, 24]                                       20778 non-null int64\n",
      "Auto Dealers                                   20778 non-null int64\n",
      "Business & Utility Services                    20778 non-null int64\n",
      "Content & Apps                                 20778 non-null int64\n",
      "Creators & Celebrities                         20778 non-null int64\n",
      "Food & Personal Goods                          20778 non-null int64\n",
      "General Interest                               20778 non-null int64\n",
      "Government Agencies                            20778 non-null int64\n",
      "Grocery & Convenience Stores                   20778 non-null int64\n",
      "Home & Auto                                    20778 non-null int64\n",
      "Home Goods Stores                              20778 non-null int64\n",
      "Home Services                                  20778 non-null int64\n",
      "Lifestyle Services                             20778 non-null int64\n",
      "Local Events                                   20778 non-null int64\n",
      "Non-Profits & Religious Organizations          20778 non-null int64\n",
      "Personal Goods & General Merchandise Stores    20778 non-null int64\n",
      "Professional Services                          20778 non-null int64\n",
      "Publishers                                     20778 non-null int64\n",
      "Transportation & Accomodation Services         20778 non-null int64\n",
      "mean_likes                                     20778 non-null float64\n",
      "mean_comments                                  20778 non-null float64\n",
      "dtypes: bool(4), float64(7), int64(39)\n",
      "memory usage: 7.4 MB\n"
     ]
    }
   ],
   "source": [
    "Regression_Data.info()"
   ]
  },
  {
   "cell_type": "code",
   "execution_count": 75,
   "metadata": {
    "collapsed": true
   },
   "outputs": [],
   "source": [
    "import numpy as np\n",
    "from sklearn import datasets\n",
    "import seaborn as sns\n",
    "from sklearn.feature_selection import RFE\n",
    "from sklearn.model_selection import train_test_split\n",
    "from sklearn.model_selection import cross_val_score\n",
    "from sklearn.model_selection import KFold\n",
    "from sklearn.pipeline import Pipeline\n",
    "from sklearn.preprocessing import StandardScaler\n",
    "import matplotlib.pyplot as plt\n",
    "import xgboost as xgb"
   ]
  },
  {
   "cell_type": "code",
   "execution_count": 76,
   "metadata": {},
   "outputs": [
    {
     "data": {
      "text/plain": [
       "Index(['number_of_likes/mean', 'number_of_likes-median', 'edge_liked_by',\n",
       "       'edge_media_to_comment', 'Saturday', 'hr_cos', 'Sunday', 'time_between',\n",
       "       '(16, 20]', 'hour_of_day'],\n",
       "      dtype='object')"
      ]
     },
     "execution_count": 76,
     "metadata": {},
     "output_type": "execute_result"
    }
   ],
   "source": [
    "correlation = Regression_Data.corr(method='pearson')\n",
    "columns = correlation.nlargest(10, 'number_of_likes/mean').index\n",
    "columns"
   ]
  },
  {
   "cell_type": "code",
   "execution_count": 80,
   "metadata": {},
   "outputs": [
    {
     "data": {
      "image/png": "[encoded data removed]",
      "text/plain": [
       "<matplotlib.figure.Figure at 0x1fed17cf5c0>"
      ]
     },
     "metadata": {},
     "output_type": "display_data"
    }
   ],
   "source": [
    "correlation_map = np.corrcoef(Regression_Data[columns].values.T)\n",
    "sns.set(font_scale=0.75)\n",
    "heatmap = sns.heatmap(correlation_map, cbar=True, annot=True, square=True, fmt='.2f', yticklabels=columns.values, xticklabels=columns.values)\n",
    "\n",
    "plt.show()"
   ]
  },
  {
   "cell_type": "code",
   "execution_count": 81,
   "metadata": {},
   "outputs": [
    {
     "name": "stdout",
     "output_type": "stream",
     "text": [
      "       edge_felix_video_timeline   edge_follow  edge_followed_by  \\\n",
      "count               20778.000000  20778.000000      2.077800e+04   \n",
      "mean                    3.729714    596.863606      8.380156e+06   \n",
      "std                    16.687517    783.022966      1.608630e+07   \n",
      "min                     0.000000      0.000000      8.000000e+00   \n",
      "25%                     0.000000    141.000000      5.084570e+05   \n",
      "50%                     0.000000    383.000000      4.181985e+06   \n",
      "75%                     3.000000    770.000000      1.024219e+07   \n",
      "max                   568.000000   7246.000000      2.940083e+08   \n",
      "\n",
      "       edge_owner_to_timeline_media  highlight_reel_count  edge_liked_by  \\\n",
      "count                  20778.000000          20778.000000   2.077800e+04   \n",
      "mean                    2407.458466              9.011888   2.973237e+05   \n",
      "std                     3280.928363             21.556172   6.648774e+05   \n",
      "min                        2.000000              0.000000   0.000000e+00   \n",
      "25%                      623.000000              0.000000   8.564000e+03   \n",
      "50%                     1381.000000              5.000000   9.975100e+04   \n",
      "75%                     2970.000000             11.000000   3.734360e+05   \n",
      "max                    40472.000000            674.000000   5.330289e+07   \n",
      "\n",
      "       edge_media_to_comment  time_between  number_of_likes/mean  \\\n",
      "count           2.077800e+04  2.077800e+04          20778.000000   \n",
      "mean            3.586514e+03  3.399911e+05              1.000000   \n",
      "std             2.873019e+04  1.161938e+06              0.507538   \n",
      "min             0.000000e+00  0.000000e+00              0.000000   \n",
      "25%             8.800000e+01  5.547535e+04              0.680646   \n",
      "50%             5.400000e+02  1.026305e+05              0.939844   \n",
      "75%             2.638000e+03  2.809432e+05              1.219443   \n",
      "max             3.159102e+06  6.574870e+07              5.987419   \n",
      "\n",
      "       number_of_likes-median                   ...                    \\\n",
      "count            2.077800e+04                   ...                     \n",
      "mean             2.168983e+04                   ...                     \n",
      "std              4.248394e+05                   ...                     \n",
      "min             -5.712258e+06                   ...                     \n",
      "25%             -1.042125e+04                   ...                     \n",
      "50%              0.000000e+00                   ...                     \n",
      "75%              1.412675e+04                   ...                     \n",
      "max              4.626905e+07                   ...                     \n",
      "\n",
      "        Home & Auto  Home Goods Stores  Home Services  Lifestyle Services  \\\n",
      "count  20778.000000       20778.000000   20778.000000        20778.000000   \n",
      "mean       0.001588           0.002647       0.012176            0.002118   \n",
      "std        0.039822           0.051382       0.109675            0.045970   \n",
      "min        0.000000           0.000000       0.000000            0.000000   \n",
      "25%        0.000000           0.000000       0.000000            0.000000   \n",
      "50%        0.000000           0.000000       0.000000            0.000000   \n",
      "75%        0.000000           0.000000       0.000000            0.000000   \n",
      "max        1.000000           1.000000       1.000000            1.000000   \n",
      "\n",
      "       Local Events  Non-Profits & Religious Organizations  \\\n",
      "count  20778.000000                           20778.000000   \n",
      "mean       0.009000                               0.016412   \n",
      "std        0.094442                               0.127055   \n",
      "min        0.000000                               0.000000   \n",
      "25%        0.000000                               0.000000   \n",
      "50%        0.000000                               0.000000   \n",
      "75%        0.000000                               0.000000   \n",
      "max        1.000000                               1.000000   \n",
      "\n",
      "       Personal Goods & General Merchandise Stores  Professional Services  \\\n",
      "count                                 20778.000000           20778.000000   \n",
      "mean                                      0.019059               0.002118   \n",
      "std                                       0.136734               0.045970   \n",
      "min                                       0.000000               0.000000   \n",
      "25%                                       0.000000               0.000000   \n",
      "50%                                       0.000000               0.000000   \n",
      "75%                                       0.000000               0.000000   \n",
      "max                                       1.000000               1.000000   \n",
      "\n",
      "         Publishers  Transportation & Accomodation Services  \n",
      "count  20778.000000                            20778.000000  \n",
      "mean       0.036000                                0.001059  \n",
      "std        0.186294                                0.032523  \n",
      "min        0.000000                                0.000000  \n",
      "25%        0.000000                                0.000000  \n",
      "50%        0.000000                                0.000000  \n",
      "75%        0.000000                                0.000000  \n",
      "max        1.000000                                1.000000  \n",
      "\n",
      "[8 rows x 44 columns]\n"
     ]
    }
   ],
   "source": [
    "print(Regression_Data.describe())"
   ]
  },
  {
   "cell_type": "code",
   "execution_count": 82,
   "metadata": {
    "collapsed": true
   },
   "outputs": [],
   "source": [
    "X = Regression_Data\n",
    "Y = X['number_of_likes/mean'].values\n",
    "X = X.drop('number_of_likes/mean', axis = 1).values"
   ]
  },
  {
   "cell_type": "code",
   "execution_count": 83,
   "metadata": {
    "collapsed": true
   },
   "outputs": [],
   "source": [
    "X_train, X_test, Y_train, Y_test = train_test_split (X, Y, test_size = 0.20, random_state=42)"
   ]
  },
  {
   "cell_type": "code",
   "execution_count": 84,
   "metadata": {
    "collapsed": true
   },
   "outputs": [],
   "source": [
    "from sklearn.linear_model import LinearRegression\n",
    "from sklearn.linear_model import Lasso\n",
    "from sklearn.linear_model import ElasticNet\n",
    "from sklearn.linear_model import Ridge\n",
    "from sklearn.linear_model import BayesianRidge\n",
    "from sklearn.tree import DecisionTreeRegressor\n",
    "from sklearn.neighbors import KNeighborsRegressor\n",
    "from sklearn.ensemble import GradientBoostingRegressor\n",
    "from sklearn import svm"
   ]
  },
  {
   "cell_type": "code",
   "execution_count": 88,
   "metadata": {
    "collapsed": true
   },
   "outputs": [],
   "source": [
    "import warnings\n",
    "warnings.filterwarnings('ignore')\n",
    "all_regressors = []\n",
    "all_regressors.append(('LR', Pipeline([('Scaler', StandardScaler()),('LR',LinearRegression())])))\n",
    "all_regressors.append(('LASSO', Pipeline([('Scaler', StandardScaler()),('LASSO', Lasso())])))\n",
    "all_regressors.append(('EN', Pipeline([('Scaler', StandardScaler()),('EN', ElasticNet())])))\n",
    "all_regressors.append(('Ridge', Pipeline([('Scaler', StandardScaler()),('RIDGE', Ridge())])))\n",
    "all_regressors.append(('BYR', Pipeline([('Scaler', StandardScaler()),('BYR', BayesianRidge())])))\n",
    "all_regressors.append(('KNN', Pipeline([('Scaler', StandardScaler()),('KNN', KNeighborsRegressor())])))\n",
    "all_regressors.append(('CART', Pipeline([('Scaler', StandardScaler()),('CART', DecisionTreeRegressor())])))\n",
    "all_regressors.append(('GBM', Pipeline([('Scaler', StandardScaler()),('GBM', GradientBoostingRegressor())])))\n",
    "all_regressors.append(('SVM', Pipeline([('Scaler', StandardScaler()),('SVM', svm.SVR())])))\n",
    "all_regressors.append(('XGB', Pipeline([('Scaler', StandardScaler()),('XGB', xgb.XGBRegressor())])))\n",
    "\n",
    "train_error = []\n",
    "test_error = []\n",
    "for name, model in all_regressors:\n",
    "    kfold = KFold(n_splits=10, random_state=21)\n",
    "    cv_results_train = cross_val_score(model, X_train, Y_train, cv=kfold, scoring='mean_squared_error')\n",
    "    cv_results_test = cross_val_score(model, X_test, Y_test, cv=kfold, scoring='mean_squared_error')\n",
    "    train_error.append(cv_results_train.mean())\n",
    "    test_error.append(cv_results_test.mean())"
   ]
  },
  {
   "cell_type": "code",
   "execution_count": 90,
   "metadata": {},
   "outputs": [
    {
     "data": {
      "text/html": [
       "<div>\n",
       "<style>\n",
       "    .dataframe thead tr:only-child th {\n",
       "        text-align: right;\n",
       "    }\n",
       "\n",
       "    .dataframe thead th {\n",
       "        text-align: left;\n",
       "    }\n",
       "\n",
       "    .dataframe tbody tr th {\n",
       "        vertical-align: top;\n",
       "    }\n",
       "</style>\n",
       "<table border=\"1\" class=\"dataframe\">\n",
       "  <thead>\n",
       "    <tr style=\"text-align: right;\">\n",
       "      <th></th>\n",
       "      <th>Test Error</th>\n",
       "      <th>Train Error</th>\n",
       "    </tr>\n",
       "  </thead>\n",
       "  <tbody>\n",
       "    <tr>\n",
       "      <th>Linear Regression</th>\n",
       "      <td>-0.183187</td>\n",
       "      <td>-0.281757</td>\n",
       "    </tr>\n",
       "    <tr>\n",
       "      <th>Lasso Regression</th>\n",
       "      <td>-0.238635</td>\n",
       "      <td>-0.262383</td>\n",
       "    </tr>\n",
       "    <tr>\n",
       "      <th>ElasticNet</th>\n",
       "      <td>-0.238635</td>\n",
       "      <td>-0.262383</td>\n",
       "    </tr>\n",
       "    <tr>\n",
       "      <th>Ridge Regression</th>\n",
       "      <td>-0.183183</td>\n",
       "      <td>-0.281632</td>\n",
       "    </tr>\n",
       "    <tr>\n",
       "      <th>Bayesian Regression</th>\n",
       "      <td>-0.182879</td>\n",
       "      <td>-0.280375</td>\n",
       "    </tr>\n",
       "    <tr>\n",
       "      <th>KNN</th>\n",
       "      <td>-0.209892</td>\n",
       "      <td>-0.228720</td>\n",
       "    </tr>\n",
       "    <tr>\n",
       "      <th>Decision Tree</th>\n",
       "      <td>-0.063286</td>\n",
       "      <td>-0.056451</td>\n",
       "    </tr>\n",
       "    <tr>\n",
       "      <th>Gradient Boosting</th>\n",
       "      <td>-0.050156</td>\n",
       "      <td>-0.055103</td>\n",
       "    </tr>\n",
       "    <tr>\n",
       "      <th>SVM</th>\n",
       "      <td>-0.142178</td>\n",
       "      <td>-0.150914</td>\n",
       "    </tr>\n",
       "    <tr>\n",
       "      <th>XGBoost</th>\n",
       "      <td>-0.050635</td>\n",
       "      <td>-0.054867</td>\n",
       "    </tr>\n",
       "  </tbody>\n",
       "</table>\n",
       "</div>"
      ],
      "text/plain": [
       "                     Test Error  Train Error\n",
       "Linear Regression     -0.183187    -0.281757\n",
       "Lasso Regression      -0.238635    -0.262383\n",
       "ElasticNet            -0.238635    -0.262383\n",
       "Ridge Regression      -0.183183    -0.281632\n",
       "Bayesian Regression   -0.182879    -0.280375\n",
       "KNN                   -0.209892    -0.228720\n",
       "Decision Tree         -0.063286    -0.056451\n",
       "Gradient Boosting     -0.050156    -0.055103\n",
       "SVM                   -0.142178    -0.150914\n",
       "XGBoost               -0.050635    -0.054867"
      ]
     },
     "execution_count": 90,
     "metadata": {},
     "output_type": "execute_result"
    }
   ],
   "source": [
    "col={'Train Error':train_error,'Test Error':test_error}\n",
    "models=['Linear Regression', 'Lasso Regression', 'ElasticNet', 'Ridge Regression', 'Bayesian Regression','KNN','Decision Tree', 'Gradient Boosting','SVM', 'XGBoost']\n",
    "df=pd.DataFrame(data=col,index=models)\n",
    "df"
   ]
  },
  {
   "cell_type": "code",
   "execution_count": 124,
   "metadata": {
    "collapsed": true
   },
   "outputs": [],
   "source": [
    "toDropVersion2 = ['edge_liked_by', 'edge_media_to_comment', 'number_of_likes-median']\n",
    "Regression_Data2 = Regression_Data.drop(toDropVersion2,axis=1)"
   ]
  },
  {
   "cell_type": "code",
   "execution_count": 125,
   "metadata": {},
   "outputs": [
    {
     "name": "stdout",
     "output_type": "stream",
     "text": [
      "<class 'pandas.core.frame.DataFrame'>\n",
      "RangeIndex: 20778 entries, 0 to 20777\n",
      "Data columns (total 47 columns):\n",
      "edge_felix_video_timeline                      20778 non-null int64\n",
      "edge_follow                                    20778 non-null int64\n",
      "edge_followed_by                               20778 non-null int64\n",
      "edge_owner_to_timeline_media                   20778 non-null int64\n",
      "highlight_reel_count                           20778 non-null int64\n",
      "is_business_account                            20778 non-null bool\n",
      "is_verified                                    20778 non-null bool\n",
      "comments_disabled                              20778 non-null bool\n",
      "is_video                                       20778 non-null bool\n",
      "time_between                                   20778 non-null float64\n",
      "number_of_likes/mean                           20778 non-null float64\n",
      "Friday                                         20778 non-null int64\n",
      "Monday                                         20778 non-null int64\n",
      "Saturday                                       20778 non-null int64\n",
      "Sunday                                         20778 non-null int64\n",
      "Thursday                                       20778 non-null int64\n",
      "Tuesday                                        20778 non-null int64\n",
      "Wednesday                                      20778 non-null int64\n",
      "hour_of_day                                    20778 non-null int64\n",
      "hr_sin                                         20778 non-null float64\n",
      "hr_cos                                         20778 non-null float64\n",
      "(0, 4]                                         20778 non-null int64\n",
      "(4, 8]                                         20778 non-null int64\n",
      "(8, 12]                                        20778 non-null int64\n",
      "(12, 16]                                       20778 non-null int64\n",
      "(16, 20]                                       20778 non-null int64\n",
      "(20, 24]                                       20778 non-null int64\n",
      "Auto Dealers                                   20778 non-null int64\n",
      "Business & Utility Services                    20778 non-null int64\n",
      "Content & Apps                                 20778 non-null int64\n",
      "Creators & Celebrities                         20778 non-null int64\n",
      "Food & Personal Goods                          20778 non-null int64\n",
      "General Interest                               20778 non-null int64\n",
      "Government Agencies                            20778 non-null int64\n",
      "Grocery & Convenience Stores                   20778 non-null int64\n",
      "Home & Auto                                    20778 non-null int64\n",
      "Home Goods Stores                              20778 non-null int64\n",
      "Home Services                                  20778 non-null int64\n",
      "Lifestyle Services                             20778 non-null int64\n",
      "Local Events                                   20778 non-null int64\n",
      "Non-Profits & Religious Organizations          20778 non-null int64\n",
      "Personal Goods & General Merchandise Stores    20778 non-null int64\n",
      "Professional Services                          20778 non-null int64\n",
      "Publishers                                     20778 non-null int64\n",
      "Transportation & Accomodation Services         20778 non-null int64\n",
      "mean_likes                                     20778 non-null float64\n",
      "mean_comments                                  20778 non-null float64\n",
      "dtypes: bool(4), float64(6), int64(37)\n",
      "memory usage: 6.9 MB\n"
     ]
    }
   ],
   "source": [
    "Regression_Data2.info()"
   ]
  },
  {
   "cell_type": "code",
   "execution_count": 140,
   "metadata": {
    "collapsed": true
   },
   "outputs": [],
   "source": [
    "X_2 = Regression_Data\n",
    "Y_2 = X_2['number_of_likes/mean'].values\n",
    "y_2a = Regression_Data['number_of_likes/mean']\n",
    "X_2 = X_2.drop('number_of_likes/mean', axis = 1).values"
   ]
  },
  {
   "cell_type": "code",
   "execution_count": 127,
   "metadata": {
    "collapsed": true
   },
   "outputs": [],
   "source": [
    "X_train2, X_test2, Y_train2, Y_test2 = train_test_split (X_2, Y_2, test_size = 0.20, random_state=42)"
   ]
  },
  {
   "cell_type": "code",
   "execution_count": 131,
   "metadata": {
    "collapsed": true
   },
   "outputs": [],
   "source": [
    "all_regressors = []\n",
    "all_regressors.append(('LR', Pipeline([('Scaler', StandardScaler()),('LR',LinearRegression())])))\n",
    "all_regressors.append(('LASSO', Pipeline([('Scaler', StandardScaler()),('LASSO', Lasso())])))\n",
    "all_regressors.append(('EN', Pipeline([('Scaler', StandardScaler()),('EN', ElasticNet())])))\n",
    "all_regressors.append(('Ridge', Pipeline([('Scaler', StandardScaler()),('RIDGE', Ridge())])))\n",
    "all_regressors.append(('BYR', Pipeline([('Scaler', StandardScaler()),('BYR', BayesianRidge())])))\n",
    "all_regressors.append(('KNN', Pipeline([('Scaler', StandardScaler()),('KNN', KNeighborsRegressor())])))\n",
    "all_regressors.append(('CART', Pipeline([('Scaler', StandardScaler()),('CART', DecisionTreeRegressor())])))\n",
    "all_regressors.append(('GBM', Pipeline([('Scaler', StandardScaler()),('GBM', GradientBoostingRegressor())])))\n",
    "all_regressors.append(('SVM', Pipeline([('Scaler', StandardScaler()),('SVM', svm.SVR())])))\n",
    "all_regressors.append(('XGB', Pipeline([('Scaler', StandardScaler()),('XGB', xgb.XGBRegressor())])))\n",
    "\n",
    "train_error = []\n",
    "test_error = []\n",
    "train_error2 = []\n",
    "test_error2 = []\n",
    "for name, model in all_regressors:\n",
    "    kfold = KFold(n_splits=10, random_state=21)\n",
    "    cv_results_train = cross_val_score(model, X_train2, Y_train2, cv=kfold, scoring='mean_squared_error')\n",
    "    cv_results_test = cross_val_score(model, X_test2, Y_test2, cv=kfold, scoring='mean_squared_error')\n",
    "    cv_results_train2 = cross_val_score(model, X_train2, Y_train2, cv=kfold, scoring='r2')\n",
    "    cv_results_test2 = cross_val_score(model, X_test2, Y_test2, cv=kfold, scoring='r2')\n",
    "    train_error.append(cv_results_train.mean())\n",
    "    test_error.append(cv_results_test.mean())\n",
    "    train_error2.append(cv_results_train2.mean())\n",
    "    test_error2.append(cv_results_test2.mean())"
   ]
  },
  {
   "cell_type": "code",
   "execution_count": 132,
   "metadata": {},
   "outputs": [
    {
     "data": {
      "text/html": [
       "<div>\n",
       "<style>\n",
       "    .dataframe thead tr:only-child th {\n",
       "        text-align: right;\n",
       "    }\n",
       "\n",
       "    .dataframe thead th {\n",
       "        text-align: left;\n",
       "    }\n",
       "\n",
       "    .dataframe tbody tr th {\n",
       "        vertical-align: top;\n",
       "    }\n",
       "</style>\n",
       "<table border=\"1\" class=\"dataframe\">\n",
       "  <thead>\n",
       "    <tr style=\"text-align: right;\">\n",
       "      <th></th>\n",
       "      <th>Test Error MSE</th>\n",
       "      <th>Test Error R^2</th>\n",
       "      <th>Train Error MSE</th>\n",
       "      <th>Train Error R^2</th>\n",
       "    </tr>\n",
       "  </thead>\n",
       "  <tbody>\n",
       "    <tr>\n",
       "      <th>Linear Regression</th>\n",
       "      <td>-0.180648</td>\n",
       "      <td>0.241348</td>\n",
       "      <td>-0.277374</td>\n",
       "      <td>-0.069042</td>\n",
       "    </tr>\n",
       "    <tr>\n",
       "      <th>Lasso Regression</th>\n",
       "      <td>-0.238635</td>\n",
       "      <td>-0.003557</td>\n",
       "      <td>-0.262383</td>\n",
       "      <td>-0.000625</td>\n",
       "    </tr>\n",
       "    <tr>\n",
       "      <th>ElasticNet</th>\n",
       "      <td>-0.238635</td>\n",
       "      <td>-0.003557</td>\n",
       "      <td>-0.262383</td>\n",
       "      <td>-0.000625</td>\n",
       "    </tr>\n",
       "    <tr>\n",
       "      <th>Ridge Regression</th>\n",
       "      <td>-0.180591</td>\n",
       "      <td>0.241614</td>\n",
       "      <td>-0.276585</td>\n",
       "      <td>-0.065819</td>\n",
       "    </tr>\n",
       "    <tr>\n",
       "      <th>Bayesian Regression</th>\n",
       "      <td>-0.181474</td>\n",
       "      <td>0.238270</td>\n",
       "      <td>-0.276812</td>\n",
       "      <td>-0.066749</td>\n",
       "    </tr>\n",
       "    <tr>\n",
       "      <th>KNN</th>\n",
       "      <td>-0.209238</td>\n",
       "      <td>0.120198</td>\n",
       "      <td>-0.226082</td>\n",
       "      <td>0.138012</td>\n",
       "    </tr>\n",
       "    <tr>\n",
       "      <th>Decision Tree</th>\n",
       "      <td>-0.034848</td>\n",
       "      <td>0.859633</td>\n",
       "      <td>-0.019218</td>\n",
       "      <td>0.926914</td>\n",
       "    </tr>\n",
       "    <tr>\n",
       "      <th>Gradient Boosting</th>\n",
       "      <td>-0.027898</td>\n",
       "      <td>0.884246</td>\n",
       "      <td>-0.027662</td>\n",
       "      <td>0.894823</td>\n",
       "    </tr>\n",
       "    <tr>\n",
       "      <th>SVM</th>\n",
       "      <td>-0.135180</td>\n",
       "      <td>0.435608</td>\n",
       "      <td>-0.137770</td>\n",
       "      <td>0.474954</td>\n",
       "    </tr>\n",
       "    <tr>\n",
       "      <th>XGBoost</th>\n",
       "      <td>-0.028206</td>\n",
       "      <td>0.883092</td>\n",
       "      <td>-0.028960</td>\n",
       "      <td>0.889762</td>\n",
       "    </tr>\n",
       "  </tbody>\n",
       "</table>\n",
       "</div>"
      ],
      "text/plain": [
       "                     Test Error MSE  Test Error R^2  Train Error MSE  \\\n",
       "Linear Regression         -0.180648        0.241348        -0.277374   \n",
       "Lasso Regression          -0.238635       -0.003557        -0.262383   \n",
       "ElasticNet                -0.238635       -0.003557        -0.262383   \n",
       "Ridge Regression          -0.180591        0.241614        -0.276585   \n",
       "Bayesian Regression       -0.181474        0.238270        -0.276812   \n",
       "KNN                       -0.209238        0.120198        -0.226082   \n",
       "Decision Tree             -0.034848        0.859633        -0.019218   \n",
       "Gradient Boosting         -0.027898        0.884246        -0.027662   \n",
       "SVM                       -0.135180        0.435608        -0.137770   \n",
       "XGBoost                   -0.028206        0.883092        -0.028960   \n",
       "\n",
       "                     Train Error R^2  \n",
       "Linear Regression          -0.069042  \n",
       "Lasso Regression           -0.000625  \n",
       "ElasticNet                 -0.000625  \n",
       "Ridge Regression           -0.065819  \n",
       "Bayesian Regression        -0.066749  \n",
       "KNN                         0.138012  \n",
       "Decision Tree               0.926914  \n",
       "Gradient Boosting           0.894823  \n",
       "SVM                         0.474954  \n",
       "XGBoost                     0.889762  "
      ]
     },
     "execution_count": 132,
     "metadata": {},
     "output_type": "execute_result"
    }
   ],
   "source": [
    "col={'Train Error MSE':train_error,'Test Error MSE':test_error, 'Train Error R^2':train_error2,'Test Error R^2':test_error2}\n",
    "models=['Linear Regression', 'Lasso Regression', 'ElasticNet', 'Ridge Regression', 'Bayesian Regression','KNN','Decision Tree', 'Gradient Boosting','SVM', 'XGBoost']\n",
    "df=pd.DataFrame(data=col,index=models)\n",
    "df"
   ]
  },
  {
   "cell_type": "code",
   "execution_count": 133,
   "metadata": {},
   "outputs": [
    {
     "data": {
      "text/plain": [
       "<matplotlib.axes._subplots.AxesSubplot at 0x1fed7c864e0>"
      ]
     },
     "execution_count": 133,
     "metadata": {},
     "output_type": "execute_result"
    },
    {
     "data": {
      "image/png": "[encoded data removed]",
      "text/plain": [
       "<matplotlib.figure.Figure at 0x1fed7b81550>"
      ]
     },
     "metadata": {},
     "output_type": "display_data"
    }
   ],
   "source": [
    "df.plot(kind='bar')"
   ]
  },
  {
   "cell_type": "code",
   "execution_count": 145,
   "metadata": {},
   "outputs": [
    {
     "data": {
      "text/html": [
       "<div>\n",
       "<style>\n",
       "    .dataframe thead tr:only-child th {\n",
       "        text-align: right;\n",
       "    }\n",
       "\n",
       "    .dataframe thead th {\n",
       "        text-align: left;\n",
       "    }\n",
       "\n",
       "    .dataframe tbody tr th {\n",
       "        vertical-align: top;\n",
       "    }\n",
       "</style>\n",
       "<table border=\"1\" class=\"dataframe\">\n",
       "  <thead>\n",
       "    <tr style=\"text-align: right;\">\n",
       "      <th></th>\n",
       "      <th>Prediction</th>\n",
       "      <th>Test Data</th>\n",
       "    </tr>\n",
       "  </thead>\n",
       "  <tbody>\n",
       "    <tr>\n",
       "      <th>0</th>\n",
       "      <td>1.154562</td>\n",
       "      <td>1.097305</td>\n",
       "    </tr>\n",
       "    <tr>\n",
       "      <th>1</th>\n",
       "      <td>0.679439</td>\n",
       "      <td>0.499679</td>\n",
       "    </tr>\n",
       "    <tr>\n",
       "      <th>2</th>\n",
       "      <td>0.677705</td>\n",
       "      <td>0.515167</td>\n",
       "    </tr>\n",
       "    <tr>\n",
       "      <th>3</th>\n",
       "      <td>0.873825</td>\n",
       "      <td>0.969628</td>\n",
       "    </tr>\n",
       "    <tr>\n",
       "      <th>4</th>\n",
       "      <td>1.084017</td>\n",
       "      <td>0.997958</td>\n",
       "    </tr>\n",
       "    <tr>\n",
       "      <th>5</th>\n",
       "      <td>1.302128</td>\n",
       "      <td>1.254182</td>\n",
       "    </tr>\n",
       "    <tr>\n",
       "      <th>6</th>\n",
       "      <td>0.491697</td>\n",
       "      <td>0.501491</td>\n",
       "    </tr>\n",
       "    <tr>\n",
       "      <th>7</th>\n",
       "      <td>0.918719</td>\n",
       "      <td>1.003219</td>\n",
       "    </tr>\n",
       "    <tr>\n",
       "      <th>8</th>\n",
       "      <td>1.129533</td>\n",
       "      <td>0.725389</td>\n",
       "    </tr>\n",
       "    <tr>\n",
       "      <th>9</th>\n",
       "      <td>0.806970</td>\n",
       "      <td>0.819999</td>\n",
       "    </tr>\n",
       "  </tbody>\n",
       "</table>\n",
       "</div>"
      ],
      "text/plain": [
       "   Prediction  Test Data\n",
       "0    1.154562   1.097305\n",
       "1    0.679439   0.499679\n",
       "2    0.677705   0.515167\n",
       "3    0.873825   0.969628\n",
       "4    1.084017   0.997958\n",
       "5    1.302128   1.254182\n",
       "6    0.491697   0.501491\n",
       "7    0.918719   1.003219\n",
       "8    1.129533   0.725389\n",
       "9    0.806970   0.819999"
      ]
     },
     "execution_count": 145,
     "metadata": {},
     "output_type": "execute_result"
    }
   ],
   "source": [
    "model = xgb.XGBRegressor()\n",
    "model.fit(X_train2,Y_train2)\n",
    "predictions = model.predict(X_test2)\n",
    "compare = pd.DataFrame({'Prediction': predictions, 'Test Data' : Y_test2})\n",
    "compare.head(10)"
   ]
  },
  {
   "cell_type": "code",
   "execution_count": 147,
   "metadata": {
    "collapsed": true
   },
   "outputs": [],
   "source": [
    "Regression_Data.to_csv('InstagramDatasetRegression.csv', encoding='utf-8-sig', index=False)"
   ]
  }
 ],
 "metadata": {
  "kernelspec": {
   "display_name": "Python 3",
   "language": "python",
   "name": "python3"
  },
  "language_info": {
   "codemirror_mode": {
    "name": "ipython",
    "version": 3
   },
   "file_extension": ".py",
   "mimetype": "text/x-python",
   "name": "python",
   "nbconvert_exporter": "python",
   "pygments_lexer": "ipython3",
   "version": "3.6.3"
  }
 },
 "nbformat": 4,
 "nbformat_minor": 2
}
