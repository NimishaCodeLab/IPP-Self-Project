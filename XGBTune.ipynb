{
 "cells": [
  {
   "cell_type": "code",
   "execution_count": 2,
   "metadata": {
    "collapsed": true
   },
   "outputs": [],
   "source": [
    "import pandas as pd\n",
    "InstagramDF=pd.read_csv('InstagramDatasetRegression.csv', encoding='utf-8-sig')"
   ]
  },
  {
   "cell_type": "code",
   "execution_count": 6,
   "metadata": {
    "collapsed": true
   },
   "outputs": [],
   "source": [
    "import numpy as np\n",
    "from sklearn import datasets\n",
    "import seaborn as sns\n",
    "from sklearn.feature_selection import RFE\n",
    "from sklearn.model_selection import train_test_split\n",
    "from sklearn.model_selection import cross_val_score\n",
    "from sklearn.model_selection import KFold\n",
    "from sklearn.pipeline import Pipeline\n",
    "from sklearn.preprocessing import StandardScaler\n",
    "import matplotlib.pyplot as plt\n",
    "import xgboost as xgb"
   ]
  },
  {
   "cell_type": "code",
   "execution_count": 7,
   "metadata": {
    "collapsed": true
   },
   "outputs": [],
   "source": [
    "X = InstagramDF\n",
    "Y = X['number_of_likes/mean'].values\n",
    "X = X.drop('number_of_likes/mean', axis = 1).values"
   ]
  },
  {
   "cell_type": "code",
   "execution_count": 8,
   "metadata": {
    "collapsed": true
   },
   "outputs": [],
   "source": [
    "X_train, X_test, Y_train, Y_test = train_test_split (X, Y, test_size = 0.20, random_state=42)"
   ]
  },
  {
   "cell_type": "code",
   "execution_count": 18,
   "metadata": {
    "collapsed": true
   },
   "outputs": [],
   "source": [
    "from sklearn.linear_model import LinearRegression\n",
    "from sklearn.linear_model import Lasso\n",
    "from sklearn.linear_model import ElasticNet\n",
    "from sklearn.linear_model import Ridge\n",
    "from sklearn.linear_model import BayesianRidge\n",
    "from sklearn.tree import DecisionTreeRegressor\n",
    "from sklearn.neighbors import KNeighborsRegressor\n",
    "from sklearn.ensemble import GradientBoostingRegressor\n",
    "from sklearn import svm"
   ]
  },
  {
   "cell_type": "code",
   "execution_count": 23,
   "metadata": {
    "collapsed": true
   },
   "outputs": [],
   "source": [
    "import warnings\n",
    "warnings.filterwarnings('ignore')\n",
    "all_regressors = []\n",
    "all_regressors.append(('LR', Pipeline([('Scaler', StandardScaler()),('LR',LinearRegression())])))\n",
    "all_regressors.append(('LASSO', Pipeline([('Scaler', StandardScaler()),('LASSO', Lasso())])))\n",
    "all_regressors.append(('EN', Pipeline([('Scaler', StandardScaler()),('EN', ElasticNet())])))\n",
    "all_regressors.append(('Ridge', Pipeline([('Scaler', StandardScaler()),('RIDGE', Ridge())])))\n",
    "all_regressors.append(('BYR', Pipeline([('Scaler', StandardScaler()),('BYR', BayesianRidge())])))\n",
    "all_regressors.append(('KNN', Pipeline([('Scaler', StandardScaler()),('KNN', KNeighborsRegressor())])))\n",
    "all_regressors.append(('CART', Pipeline([('Scaler', StandardScaler()),('CART', DecisionTreeRegressor())])))\n",
    "all_regressors.append(('SVM', Pipeline([('Scaler', StandardScaler()),('SVM', svm.SVR())])))\n",
    "all_regressors.append(('XGB', Pipeline([('Scaler', StandardScaler()),('XGB', xgb.XGBRegressor())])))\n",
    "\n",
    "train_error = []\n",
    "test_error = []\n",
    "train_error2 = []\n",
    "test_error2 = []\n",
    "for name, model in all_regressors:\n",
    "    kfold = KFold(n_splits=10, random_state=21)\n",
    "    cv_results_train = cross_val_score(model, X_train, Y_train, cv=kfold, scoring='mean_squared_error')\n",
    "    cv_results_test = cross_val_score(model, X_test, Y_test, cv=kfold, scoring='mean_squared_error')\n",
    "    cv_results_train2 = cross_val_score(model, X_train, Y_train, cv=kfold, scoring='r2')\n",
    "    cv_results_test2 = cross_val_score(model, X_test, Y_test, cv=kfold, scoring='r2')\n",
    "    train_error.append(cv_results_train.mean())\n",
    "    test_error.append(cv_results_test.mean())\n",
    "    train_error2.append(cv_results_train2.mean())\n",
    "    test_error2.append(cv_results_test2.mean())"
   ]
  },
  {
   "cell_type": "code",
   "execution_count": 24,
   "metadata": {},
   "outputs": [
    {
     "data": {
      "text/html": [
       "<div>\n",
       "<style>\n",
       "    .dataframe thead tr:only-child th {\n",
       "        text-align: right;\n",
       "    }\n",
       "\n",
       "    .dataframe thead th {\n",
       "        text-align: left;\n",
       "    }\n",
       "\n",
       "    .dataframe tbody tr th {\n",
       "        vertical-align: top;\n",
       "    }\n",
       "</style>\n",
       "<table border=\"1\" class=\"dataframe\">\n",
       "  <thead>\n",
       "    <tr style=\"text-align: right;\">\n",
       "      <th></th>\n",
       "      <th>Test Error MSE</th>\n",
       "      <th>Test Error R^2</th>\n",
       "      <th>Train Error MSE</th>\n",
       "      <th>Train Error R^2</th>\n",
       "    </tr>\n",
       "  </thead>\n",
       "  <tbody>\n",
       "    <tr>\n",
       "      <th>Linear Regression</th>\n",
       "      <td>-0.265853</td>\n",
       "      <td>0.024824</td>\n",
       "      <td>-0.241637</td>\n",
       "      <td>0.043392</td>\n",
       "    </tr>\n",
       "    <tr>\n",
       "      <th>Lasso Regression</th>\n",
       "      <td>-0.273798</td>\n",
       "      <td>-0.003683</td>\n",
       "      <td>-0.252769</td>\n",
       "      <td>-0.000751</td>\n",
       "    </tr>\n",
       "    <tr>\n",
       "      <th>ElasticNet</th>\n",
       "      <td>-0.273798</td>\n",
       "      <td>-0.003683</td>\n",
       "      <td>-0.252769</td>\n",
       "      <td>-0.000751</td>\n",
       "    </tr>\n",
       "    <tr>\n",
       "      <th>Ridge Regression</th>\n",
       "      <td>-0.265810</td>\n",
       "      <td>0.024992</td>\n",
       "      <td>-0.241637</td>\n",
       "      <td>0.043390</td>\n",
       "    </tr>\n",
       "    <tr>\n",
       "      <th>Bayesian Regression</th>\n",
       "      <td>-0.264739</td>\n",
       "      <td>0.029213</td>\n",
       "      <td>-0.241568</td>\n",
       "      <td>0.043662</td>\n",
       "    </tr>\n",
       "    <tr>\n",
       "      <th>KNN</th>\n",
       "      <td>-0.308872</td>\n",
       "      <td>-0.139583</td>\n",
       "      <td>-0.285912</td>\n",
       "      <td>-0.132389</td>\n",
       "    </tr>\n",
       "    <tr>\n",
       "      <th>Decision Tree</th>\n",
       "      <td>-0.526820</td>\n",
       "      <td>-1.019021</td>\n",
       "      <td>-0.514697</td>\n",
       "      <td>-1.037114</td>\n",
       "    </tr>\n",
       "    <tr>\n",
       "      <th>SVM</th>\n",
       "      <td>-0.275927</td>\n",
       "      <td>-0.011795</td>\n",
       "      <td>-0.251827</td>\n",
       "      <td>0.003092</td>\n",
       "    </tr>\n",
       "    <tr>\n",
       "      <th>XGBoost</th>\n",
       "      <td>-0.267621</td>\n",
       "      <td>0.017558</td>\n",
       "      <td>-0.240816</td>\n",
       "      <td>0.046508</td>\n",
       "    </tr>\n",
       "  </tbody>\n",
       "</table>\n",
       "</div>"
      ],
      "text/plain": [
       "                     Test Error MSE  Test Error R^2  Train Error MSE  \\\n",
       "Linear Regression         -0.265853        0.024824        -0.241637   \n",
       "Lasso Regression          -0.273798       -0.003683        -0.252769   \n",
       "ElasticNet                -0.273798       -0.003683        -0.252769   \n",
       "Ridge Regression          -0.265810        0.024992        -0.241637   \n",
       "Bayesian Regression       -0.264739        0.029213        -0.241568   \n",
       "KNN                       -0.308872       -0.139583        -0.285912   \n",
       "Decision Tree             -0.526820       -1.019021        -0.514697   \n",
       "SVM                       -0.275927       -0.011795        -0.251827   \n",
       "XGBoost                   -0.267621        0.017558        -0.240816   \n",
       "\n",
       "                     Train Error R^2  \n",
       "Linear Regression           0.043392  \n",
       "Lasso Regression           -0.000751  \n",
       "ElasticNet                 -0.000751  \n",
       "Ridge Regression            0.043390  \n",
       "Bayesian Regression         0.043662  \n",
       "KNN                        -0.132389  \n",
       "Decision Tree              -1.037114  \n",
       "SVM                         0.003092  \n",
       "XGBoost                     0.046508  "
      ]
     },
     "execution_count": 24,
     "metadata": {},
     "output_type": "execute_result"
    }
   ],
   "source": [
    "col={'Train Error MSE':train_error,'Test Error MSE':test_error, 'Train Error R^2':train_error2,'Test Error R^2':test_error2}\n",
    "models=['Linear Regression', 'Lasso Regression', 'ElasticNet', 'Ridge Regression', 'Bayesian Regression','KNN','Decision Tree','SVM', 'XGBoost']\n",
    "df=pd.DataFrame(data=col,index=models)\n",
    "df"
   ]
  },
  {
   "cell_type": "code",
   "execution_count": 25,
   "metadata": {},
   "outputs": [
    {
     "data": {
      "text/plain": [
       "<matplotlib.axes._subplots.AxesSubplot at 0x22c044ff240>"
      ]
     },
     "execution_count": 25,
     "metadata": {},
     "output_type": "execute_result"
    },
    {
     "data": {
      "image/png": "[encoded data removed]",
      "text/plain": [
       "<matplotlib.figure.Figure at 0x22c044ffc50>"
      ]
     },
     "metadata": {
      "needs_background": "light"
     },
     "output_type": "display_data"
    }
   ],
   "source": [
    "df.plot(kind='bar')"
   ]
  },
  {
   "cell_type": "code",
   "execution_count": 26,
   "metadata": {
    "collapsed": true
   },
   "outputs": [],
   "source": [
    "from sklearn import cross_validation, metrics   #Additional scklearn functions\n",
    "from sklearn.grid_search import GridSearchCV   #Perforing grid search\n",
    "\n",
    "import matplotlib.pylab as plt\n",
    "%matplotlib inline\n",
    "from matplotlib.pylab import rcParams\n",
    "rcParams['figure.figsize'] = 12, 4"
   ]
  },
  {
   "cell_type": "code",
   "execution_count": 32,
   "metadata": {
    "collapsed": true
   },
   "outputs": [],
   "source": [
    "df = InstagramDF"
   ]
  },
  {
   "cell_type": "code",
   "execution_count": 33,
   "metadata": {
    "collapsed": true
   },
   "outputs": [],
   "source": [
    "df = df.rename(columns={'number_of_likes/mean': 'number_of_likes_over_mean', '(0, 4]': 'zero_to_four', '(4, 8]': 'four_to_eight', '(8, 12]': 'eight_to_twelve', '(12, 16]': 'twelve_to_sixteen', '(16, 20]': 'sixteen_to_twenty','(20, 24]': 'twenty_to_twentyfour'})"
   ]
  },
  {
   "cell_type": "code",
   "execution_count": 43,
   "metadata": {
    "collapsed": true
   },
   "outputs": [],
   "source": [
    "target = 'number_of_likes_over_mean'\n",
    "def modelfit(alg, dtrain, predictors,useTrainCV=True, cv_folds=5, early_stopping_rounds=50):\n",
    "    \n",
    "    if useTrainCV:\n",
    "        xgb_param = alg.get_xgb_params()\n",
    "        xgtrain = xgb.DMatrix(dtrain[predictors].values, label=dtrain[target].values)\n",
    "        cvresult = xgb.cv(xgb_param, xgtrain, num_boost_round=alg.get_params()['n_estimators'], nfold=cv_folds,\n",
    "            metrics='rmse', early_stopping_rounds=early_stopping_rounds)\n",
    "        alg.set_params(n_estimators=cvresult.shape[0])\n",
    "    \n",
    "    #Fit the algorithm on the data\n",
    "    alg.fit(dtrain[predictors], dtrain['number_of_likes_over_mean'],eval_metric='rmse')\n",
    "        \n",
    "    #Predict training set:\n",
    "    dtrain_predictions = alg.predict(dtrain[predictors])\n",
    "    #dtrain_predprob = alg.predict_proba(dtrain[predictors])[:,1]\n",
    "        \n",
    "    #Print model report:\n",
    "    print(\"\\nModel Report\")\n",
    "    print(\"Mean Squared Error : %.4g\" % metrics.mean_squared_error(dtrain['number_of_likes_over_mean'].values, dtrain_predictions))\n",
    "    print(\"R^2 Score (Train): %f\" % metrics.r2_score(dtrain['number_of_likes_over_mean'], dtrain_predictions))"
   ]
  },
  {
   "cell_type": "code",
   "execution_count": 46,
   "metadata": {},
   "outputs": [
    {
     "name": "stdout",
     "output_type": "stream",
     "text": [
      "\n",
      "Model Report\n",
      "Mean Squared Error : 0.229\n",
      "R^2 Score (Train): 0.108499\n"
     ]
    }
   ],
   "source": [
    "predictors = [x for x in df.columns if x not in [target]]\n",
    "xgb1 = xgb.XGBRegressor(\n",
    " learning_rate =0.1,\n",
    " n_estimators=1000,\n",
    " max_depth=5,\n",
    " min_child_weight=1,\n",
    " gamma=0,\n",
    " subsample=0.8,\n",
    " colsample_bytree=0.8,\n",
    " objective= 'reg:linear',\n",
    " nthread=4,\n",
    " scale_pos_weight=1,\n",
    " seed=27)\n",
    "modelfit(xgb1, df, predictors)"
   ]
  },
  {
   "cell_type": "code",
   "execution_count": 47,
   "metadata": {},
   "outputs": [
    {
     "data": {
      "text/plain": [
       "37"
      ]
     },
     "execution_count": 47,
     "metadata": {},
     "output_type": "execute_result"
    }
   ],
   "source": [
    "xgb1.n_estimators"
   ]
  },
  {
   "cell_type": "code",
   "execution_count": 48,
   "metadata": {},
   "outputs": [
    {
     "data": {
      "text/plain": [
       "([mean: -0.24368, std: 0.00993, params: {'max_depth': 3, 'min_child_weight': 1},\n",
       "  mean: -0.24361, std: 0.00983, params: {'max_depth': 3, 'min_child_weight': 3},\n",
       "  mean: -0.24358, std: 0.00980, params: {'max_depth': 3, 'min_child_weight': 5},\n",
       "  mean: -0.24416, std: 0.01019, params: {'max_depth': 5, 'min_child_weight': 1},\n",
       "  mean: -0.24431, std: 0.01013, params: {'max_depth': 5, 'min_child_weight': 3},\n",
       "  mean: -0.24381, std: 0.01012, params: {'max_depth': 5, 'min_child_weight': 5},\n",
       "  mean: -0.24588, std: 0.01031, params: {'max_depth': 7, 'min_child_weight': 1},\n",
       "  mean: -0.24617, std: 0.00975, params: {'max_depth': 7, 'min_child_weight': 3},\n",
       "  mean: -0.24545, std: 0.01002, params: {'max_depth': 7, 'min_child_weight': 5},\n",
       "  mean: -0.24823, std: 0.01039, params: {'max_depth': 9, 'min_child_weight': 1},\n",
       "  mean: -0.24837, std: 0.01116, params: {'max_depth': 9, 'min_child_weight': 3},\n",
       "  mean: -0.24825, std: 0.01008, params: {'max_depth': 9, 'min_child_weight': 5}],\n",
       " {'max_depth': 3, 'min_child_weight': 5},\n",
       " -0.24357672170588335)"
      ]
     },
     "execution_count": 48,
     "metadata": {},
     "output_type": "execute_result"
    }
   ],
   "source": [
    "param_test1 = {\n",
    " 'max_depth':np.arange(3,10,2),\n",
    " 'min_child_weight':np.arange(1,6,2)\n",
    "}\n",
    "gsearch1 = GridSearchCV(estimator = xgb.XGBRegressor( learning_rate =0.1, n_estimators=37, max_depth=5,\n",
    " min_child_weight=1, gamma=0, subsample=0.8, colsample_bytree=0.8,\n",
    " objective= 'reg:linear', nthread=4, scale_pos_weight=1, seed=27), \n",
    " param_grid = param_test1, scoring='neg_mean_squared_error',n_jobs=4,iid=False, cv=5)\n",
    "gsearch1.fit(df[predictors],df[target])\n",
    "gsearch1.grid_scores_, gsearch1.best_params_, gsearch1.best_score_"
   ]
  },
  {
   "cell_type": "code",
   "execution_count": 49,
   "metadata": {},
   "outputs": [
    {
     "data": {
      "text/plain": [
       "([mean: -0.24398, std: 0.00983, params: {'max_depth': 2, 'min_child_weight': 4},\n",
       "  mean: -0.24399, std: 0.00982, params: {'max_depth': 2, 'min_child_weight': 5},\n",
       "  mean: -0.24397, std: 0.00983, params: {'max_depth': 2, 'min_child_weight': 6},\n",
       "  mean: -0.24352, std: 0.00987, params: {'max_depth': 3, 'min_child_weight': 4},\n",
       "  mean: -0.24358, std: 0.00980, params: {'max_depth': 3, 'min_child_weight': 5},\n",
       "  mean: -0.24347, std: 0.00990, params: {'max_depth': 3, 'min_child_weight': 6},\n",
       "  mean: -0.24358, std: 0.00980, params: {'max_depth': 4, 'min_child_weight': 4},\n",
       "  mean: -0.24344, std: 0.00983, params: {'max_depth': 4, 'min_child_weight': 5},\n",
       "  mean: -0.24350, std: 0.00999, params: {'max_depth': 4, 'min_child_weight': 6}],\n",
       " {'max_depth': 4, 'min_child_weight': 5},\n",
       " -0.2434378496156539)"
      ]
     },
     "execution_count": 49,
     "metadata": {},
     "output_type": "execute_result"
    }
   ],
   "source": [
    "param_test2 = {\n",
    " 'max_depth':[2,3,4],\n",
    " 'min_child_weight':[4,5,6]\n",
    "}\n",
    "gsearch2 = GridSearchCV(estimator = xgb.XGBRegressor( learning_rate=0.1, n_estimators=37, max_depth=5,\n",
    " min_child_weight=2, gamma=0, subsample=0.8, colsample_bytree=0.8,\n",
    " objective= 'reg:linear', nthread=4, scale_pos_weight=1,seed=27), \n",
    " param_grid = param_test2, scoring='neg_mean_squared_error',n_jobs=4,iid=False, cv=5)\n",
    "gsearch2.fit(df[predictors],df[target])\n",
    "gsearch2.grid_scores_, gsearch2.best_params_, gsearch2.best_score_"
   ]
  },
  {
   "cell_type": "code",
   "execution_count": 50,
   "metadata": {},
   "outputs": [
    {
     "data": {
      "text/plain": [
       "([mean: -0.24344, std: 0.00983, params: {'gamma': 0.0},\n",
       "  mean: -0.24344, std: 0.00983, params: {'gamma': 0.1},\n",
       "  mean: -0.24350, std: 0.00977, params: {'gamma': 0.2},\n",
       "  mean: -0.24358, std: 0.00985, params: {'gamma': 0.3},\n",
       "  mean: -0.24357, std: 0.00983, params: {'gamma': 0.4}],\n",
       " {'gamma': 0.0},\n",
       " -0.2434378496156539)"
      ]
     },
     "execution_count": 50,
     "metadata": {},
     "output_type": "execute_result"
    }
   ],
   "source": [
    "param_test3 = {\n",
    " 'gamma':[i/10.0 for i in range(0,5)]\n",
    "}\n",
    "gsearch3 = GridSearchCV(estimator = xgb.XGBRegressor( learning_rate =0.1, n_estimators=37, max_depth=4,\n",
    " min_child_weight=5, gamma=0, subsample=0.8, colsample_bytree=0.8,\n",
    " objective= 'reg:linear', nthread=4, scale_pos_weight=1,seed=27), \n",
    " param_grid = param_test3, scoring='neg_mean_squared_error',n_jobs=4,iid=False, cv=5)\n",
    "gsearch3.fit(df[predictors],df[target])\n",
    "gsearch3.grid_scores_, gsearch3.best_params_, gsearch3.best_score_"
   ]
  },
  {
   "cell_type": "code",
   "execution_count": 51,
   "metadata": {},
   "outputs": [
    {
     "name": "stdout",
     "output_type": "stream",
     "text": [
      "\n",
      "Model Report\n",
      "Mean Squared Error : 0.2346\n",
      "R^2 Score (Train): 0.086925\n"
     ]
    }
   ],
   "source": [
    "xgb2 = xgb.XGBRegressor(\n",
    " learning_rate =0.1,\n",
    " n_estimators=1000,\n",
    " max_depth=4,\n",
    " min_child_weight=5,\n",
    " gamma=0,\n",
    " subsample=0.8,\n",
    " colsample_bytree=0.8,\n",
    " objective= 'reg:linear',\n",
    " nthread=4,\n",
    " scale_pos_weight=1,\n",
    " seed=27)\n",
    "modelfit(xgb2, df, predictors)"
   ]
  },
  {
   "cell_type": "code",
   "execution_count": 52,
   "metadata": {},
   "outputs": [
    {
     "data": {
      "text/plain": [
       "42"
      ]
     },
     "execution_count": 52,
     "metadata": {},
     "output_type": "execute_result"
    }
   ],
   "source": [
    "xgb2.n_estimators"
   ]
  },
  {
   "cell_type": "code",
   "execution_count": 53,
   "metadata": {},
   "outputs": [
    {
     "data": {
      "text/plain": [
       "([mean: -0.24347, std: 0.01026, params: {'colsample_bytree': 0.6, 'subsample': 0.6},\n",
       "  mean: -0.24366, std: 0.00999, params: {'colsample_bytree': 0.6, 'subsample': 0.7},\n",
       "  mean: -0.24298, std: 0.00993, params: {'colsample_bytree': 0.6, 'subsample': 0.8},\n",
       "  mean: -0.24349, std: 0.01027, params: {'colsample_bytree': 0.6, 'subsample': 0.9},\n",
       "  mean: -0.24347, std: 0.01016, params: {'colsample_bytree': 0.7, 'subsample': 0.6},\n",
       "  mean: -0.24322, std: 0.00997, params: {'colsample_bytree': 0.7, 'subsample': 0.7},\n",
       "  mean: -0.24335, std: 0.00974, params: {'colsample_bytree': 0.7, 'subsample': 0.8},\n",
       "  mean: -0.24335, std: 0.01012, params: {'colsample_bytree': 0.7, 'subsample': 0.9},\n",
       "  mean: -0.24387, std: 0.00980, params: {'colsample_bytree': 0.8, 'subsample': 0.6},\n",
       "  mean: -0.24338, std: 0.01002, params: {'colsample_bytree': 0.8, 'subsample': 0.7},\n",
       "  mean: -0.24330, std: 0.00980, params: {'colsample_bytree': 0.8, 'subsample': 0.8},\n",
       "  mean: -0.24346, std: 0.01030, params: {'colsample_bytree': 0.8, 'subsample': 0.9},\n",
       "  mean: -0.24367, std: 0.00968, params: {'colsample_bytree': 0.9, 'subsample': 0.6},\n",
       "  mean: -0.24365, std: 0.01015, params: {'colsample_bytree': 0.9, 'subsample': 0.7},\n",
       "  mean: -0.24362, std: 0.01013, params: {'colsample_bytree': 0.9, 'subsample': 0.8},\n",
       "  mean: -0.24352, std: 0.00998, params: {'colsample_bytree': 0.9, 'subsample': 0.9}],\n",
       " {'colsample_bytree': 0.6, 'subsample': 0.8},\n",
       " -0.24298064987535453)"
      ]
     },
     "execution_count": 53,
     "metadata": {},
     "output_type": "execute_result"
    }
   ],
   "source": [
    "param_test4 = {\n",
    " 'subsample':[i/10.0 for i in range(6,10)],\n",
    " 'colsample_bytree':[i/10.0 for i in range(6,10)]\n",
    "}\n",
    "gsearch4 = GridSearchCV(estimator = xgb.XGBRegressor( learning_rate =0.1, n_estimators=42, max_depth=4,\n",
    " min_child_weight=5, gamma=0, subsample=0.8, colsample_bytree=0.8,\n",
    " objective= 'reg:linear', nthread=4, scale_pos_weight=1,seed=27), \n",
    " param_grid = param_test4, scoring='neg_mean_squared_error',n_jobs=4,iid=False, cv=5)\n",
    "gsearch4.fit(df[predictors],df[target])\n",
    "gsearch4.grid_scores_, gsearch4.best_params_, gsearch4.best_score_"
   ]
  },
  {
   "cell_type": "code",
   "execution_count": 55,
   "metadata": {},
   "outputs": [
    {
     "data": {
      "text/plain": [
       "([mean: -0.24349, std: 0.00984, params: {'colsample_bytree': 0.55, 'subsample': 0.75},\n",
       "  mean: -0.24321, std: 0.00990, params: {'colsample_bytree': 0.55, 'subsample': 0.8},\n",
       "  mean: -0.24350, std: 0.01010, params: {'colsample_bytree': 0.55, 'subsample': 0.85},\n",
       "  mean: -0.24330, std: 0.01010, params: {'colsample_bytree': 0.6, 'subsample': 0.75},\n",
       "  mean: -0.24298, std: 0.00993, params: {'colsample_bytree': 0.6, 'subsample': 0.8},\n",
       "  mean: -0.24338, std: 0.01001, params: {'colsample_bytree': 0.6, 'subsample': 0.85},\n",
       "  mean: -0.24339, std: 0.01021, params: {'colsample_bytree': 0.65, 'subsample': 0.75},\n",
       "  mean: -0.24331, std: 0.00974, params: {'colsample_bytree': 0.65, 'subsample': 0.8},\n",
       "  mean: -0.24345, std: 0.01015, params: {'colsample_bytree': 0.65, 'subsample': 0.85}],\n",
       " {'colsample_bytree': 0.6, 'subsample': 0.8},\n",
       " -0.24298064987535453)"
      ]
     },
     "execution_count": 55,
     "metadata": {},
     "output_type": "execute_result"
    }
   ],
   "source": [
    "param_test5 = {\n",
    " 'subsample':[i/100.0 for i in range(75,90,5)],\n",
    " 'colsample_bytree':[i/100.0 for i in range(55,70,5)]\n",
    "}\n",
    "gsearch5 = GridSearchCV(estimator = xgb.XGBRegressor( learning_rate =0.1, n_estimators=42, max_depth=4,\n",
    " min_child_weight=5, gamma=0, subsample=0.8, colsample_bytree=0.6,\n",
    " objective= 'reg:linear', nthread=4, scale_pos_weight=1,seed=27), \n",
    " param_grid = param_test5, scoring='neg_mean_squared_error',n_jobs=4,iid=False, cv=5)\n",
    "gsearch5.fit(df[predictors],df[target])\n",
    "gsearch5.grid_scores_, gsearch5.best_params_, gsearch5.best_score_"
   ]
  },
  {
   "cell_type": "code",
   "execution_count": 59,
   "metadata": {},
   "outputs": [
    {
     "data": {
      "text/plain": [
       "([mean: -0.24310, std: 0.00981, params: {'reg_alpha': 0.5, 'reg_lambda': 0.0005},\n",
       "  mean: -0.24310, std: 0.00981, params: {'reg_alpha': 0.5, 'reg_lambda': 0.001},\n",
       "  mean: -0.24314, std: 0.00977, params: {'reg_alpha': 0.5, 'reg_lambda': 0.005},\n",
       "  mean: -0.24300, std: 0.00993, params: {'reg_alpha': 1, 'reg_lambda': 0.0005},\n",
       "  mean: -0.24298, std: 0.00994, params: {'reg_alpha': 1, 'reg_lambda': 0.001},\n",
       "  mean: -0.24301, std: 0.00992, params: {'reg_alpha': 1, 'reg_lambda': 0.005},\n",
       "  mean: -0.24338, std: 0.00986, params: {'reg_alpha': 5, 'reg_lambda': 0.0005},\n",
       "  mean: -0.24338, std: 0.00986, params: {'reg_alpha': 5, 'reg_lambda': 0.001},\n",
       "  mean: -0.24338, std: 0.00986, params: {'reg_alpha': 5, 'reg_lambda': 0.005},\n",
       "  mean: -0.24344, std: 0.00991, params: {'reg_alpha': 10, 'reg_lambda': 0.0005},\n",
       "  mean: -0.24344, std: 0.00991, params: {'reg_alpha': 10, 'reg_lambda': 0.001},\n",
       "  mean: -0.24344, std: 0.00991, params: {'reg_alpha': 10, 'reg_lambda': 0.005},\n",
       "  mean: -0.24490, std: 0.01005, params: {'reg_alpha': 50, 'reg_lambda': 0.0005},\n",
       "  mean: -0.24490, std: 0.01005, params: {'reg_alpha': 50, 'reg_lambda': 0.001},\n",
       "  mean: -0.24490, std: 0.01005, params: {'reg_alpha': 50, 'reg_lambda': 0.005}],\n",
       " {'reg_alpha': 1, 'reg_lambda': 0.001},\n",
       " -0.24297919533171325)"
      ]
     },
     "execution_count": 59,
     "metadata": {},
     "output_type": "execute_result"
    }
   ],
   "source": [
    "param_test6 = {\n",
    "    'reg_alpha':[0.5, 1, 5, 10, 50],\n",
    "    'reg_lambda':[5e-4, 1e-3, 5e-3]\n",
    "}\n",
    "gsearch6 = GridSearchCV(estimator = xgb.XGBRegressor( learning_rate =0.1, n_estimators=42, max_depth=4,\n",
    " min_child_weight=5, gamma=0, subsample=0.8, colsample_bytree=0.6,\n",
    " objective= 'reg:linear', nthread=4, scale_pos_weight=1,seed=27), \n",
    " param_grid = param_test6, scoring='neg_mean_squared_error',n_jobs=4,iid=False, cv=5)\n",
    "gsearch6.fit(df[predictors],df[target])\n",
    "gsearch6.grid_scores_, gsearch6.best_params_, gsearch6.best_score_"
   ]
  },
  {
   "cell_type": "code",
   "execution_count": 62,
   "metadata": {},
   "outputs": [
    {
     "name": "stdout",
     "output_type": "stream",
     "text": [
      "\n",
      "Model Report\n",
      "Mean Squared Error : 0.2347\n",
      "R^2 Score (Train): 0.086571\n"
     ]
    }
   ],
   "source": [
    "xgb3 = xgb.XGBRegressor(\n",
    " learning_rate =0.1,\n",
    " n_estimators=1000,\n",
    " max_depth=4,\n",
    " min_child_weight=5,\n",
    " gamma=0,\n",
    " subsample=0.8,\n",
    " colsample_bytree=0.6,\n",
    " reg_alpha=1,\n",
    " reg_lambda=0.001,   \n",
    " objective= 'reg:linear',\n",
    " nthread=4,\n",
    " scale_pos_weight=1,\n",
    " seed=27)\n",
    "modelfit(xgb3, df, predictors)"
   ]
  },
  {
   "cell_type": "code",
   "execution_count": 63,
   "metadata": {},
   "outputs": [
    {
     "name": "stdout",
     "output_type": "stream",
     "text": [
      "\n",
      "Model Report\n",
      "Mean Squared Error : 0.2353\n",
      "R^2 Score (Train): 0.084220\n"
     ]
    }
   ],
   "source": [
    "xgb4 = xgb.XGBRegressor(\n",
    " learning_rate =0.01,\n",
    " n_estimators=5000,\n",
    " max_depth=4,\n",
    " min_child_weight=5,\n",
    " gamma=0,\n",
    " subsample=0.8,\n",
    " colsample_bytree=0.6,\n",
    " reg_alpha=1,\n",
    " reg_lambda=0.001,  \n",
    " objective= 'reg:linear',\n",
    " nthread=4,\n",
    " scale_pos_weight=1,\n",
    " seed=27)\n",
    "modelfit(xgb4, df, predictors)"
   ]
  },
  {
   "cell_type": "code",
   "execution_count": 68,
   "metadata": {},
   "outputs": [
    {
     "name": "stdout",
     "output_type": "stream",
     "text": [
      "0.485043951796\n"
     ]
    }
   ],
   "source": [
    "print(np.sqrt(metrics.mean_squared_error(df['number_of_likes_over_mean'], xgb4.predict(df[predictors]))))"
   ]
  },
  {
   "cell_type": "code",
   "execution_count": 88,
   "metadata": {},
   "outputs": [
    {
     "data": {
      "text/html": [
       "<div>\n",
       "<style>\n",
       "    .dataframe thead tr:only-child th {\n",
       "        text-align: right;\n",
       "    }\n",
       "\n",
       "    .dataframe thead th {\n",
       "        text-align: left;\n",
       "    }\n",
       "\n",
       "    .dataframe tbody tr th {\n",
       "        vertical-align: top;\n",
       "    }\n",
       "</style>\n",
       "<table border=\"1\" class=\"dataframe\">\n",
       "  <thead>\n",
       "    <tr style=\"text-align: right;\">\n",
       "      <th></th>\n",
       "      <th>Actual</th>\n",
       "      <th>Prediction</th>\n",
       "    </tr>\n",
       "  </thead>\n",
       "  <tbody>\n",
       "    <tr>\n",
       "      <th>0</th>\n",
       "      <td>0.697678</td>\n",
       "      <td>1.019311</td>\n",
       "    </tr>\n",
       "    <tr>\n",
       "      <th>1</th>\n",
       "      <td>1.132276</td>\n",
       "      <td>0.995016</td>\n",
       "    </tr>\n",
       "    <tr>\n",
       "      <th>2</th>\n",
       "      <td>0.641902</td>\n",
       "      <td>1.004327</td>\n",
       "    </tr>\n",
       "    <tr>\n",
       "      <th>3</th>\n",
       "      <td>1.072790</td>\n",
       "      <td>1.049631</td>\n",
       "    </tr>\n",
       "    <tr>\n",
       "      <th>4</th>\n",
       "      <td>1.059753</td>\n",
       "      <td>1.015065</td>\n",
       "    </tr>\n",
       "    <tr>\n",
       "      <th>5</th>\n",
       "      <td>1.177626</td>\n",
       "      <td>1.048099</td>\n",
       "    </tr>\n",
       "    <tr>\n",
       "      <th>6</th>\n",
       "      <td>1.101678</td>\n",
       "      <td>1.016622</td>\n",
       "    </tr>\n",
       "    <tr>\n",
       "      <th>7</th>\n",
       "      <td>1.154272</td>\n",
       "      <td>1.051312</td>\n",
       "    </tr>\n",
       "    <tr>\n",
       "      <th>8</th>\n",
       "      <td>1.012914</td>\n",
       "      <td>1.020844</td>\n",
       "    </tr>\n",
       "    <tr>\n",
       "      <th>9</th>\n",
       "      <td>1.057489</td>\n",
       "      <td>1.028038</td>\n",
       "    </tr>\n",
       "    <tr>\n",
       "      <th>10</th>\n",
       "      <td>0.891623</td>\n",
       "      <td>1.012417</td>\n",
       "    </tr>\n",
       "    <tr>\n",
       "      <th>11</th>\n",
       "      <td>0.235546</td>\n",
       "      <td>0.684697</td>\n",
       "    </tr>\n",
       "    <tr>\n",
       "      <th>12</th>\n",
       "      <td>0.343076</td>\n",
       "      <td>1.055478</td>\n",
       "    </tr>\n",
       "    <tr>\n",
       "      <th>13</th>\n",
       "      <td>0.743466</td>\n",
       "      <td>1.053658</td>\n",
       "    </tr>\n",
       "    <tr>\n",
       "      <th>14</th>\n",
       "      <td>1.102865</td>\n",
       "      <td>1.057383</td>\n",
       "    </tr>\n",
       "    <tr>\n",
       "      <th>15</th>\n",
       "      <td>1.064485</td>\n",
       "      <td>1.053349</td>\n",
       "    </tr>\n",
       "    <tr>\n",
       "      <th>16</th>\n",
       "      <td>1.103734</td>\n",
       "      <td>0.698918</td>\n",
       "    </tr>\n",
       "    <tr>\n",
       "      <th>17</th>\n",
       "      <td>1.692622</td>\n",
       "      <td>1.084951</td>\n",
       "    </tr>\n",
       "    <tr>\n",
       "      <th>18</th>\n",
       "      <td>0.963547</td>\n",
       "      <td>1.059699</td>\n",
       "    </tr>\n",
       "    <tr>\n",
       "      <th>19</th>\n",
       "      <td>0.955169</td>\n",
       "      <td>1.055143</td>\n",
       "    </tr>\n",
       "    <tr>\n",
       "      <th>20</th>\n",
       "      <td>1.938329</td>\n",
       "      <td>1.098259</td>\n",
       "    </tr>\n",
       "    <tr>\n",
       "      <th>21</th>\n",
       "      <td>0.857162</td>\n",
       "      <td>0.711954</td>\n",
       "    </tr>\n",
       "    <tr>\n",
       "      <th>22</th>\n",
       "      <td>1.362264</td>\n",
       "      <td>1.025670</td>\n",
       "    </tr>\n",
       "  </tbody>\n",
       "</table>\n",
       "</div>"
      ],
      "text/plain": [
       "      Actual  Prediction\n",
       "0   0.697678    1.019311\n",
       "1   1.132276    0.995016\n",
       "2   0.641902    1.004327\n",
       "3   1.072790    1.049631\n",
       "4   1.059753    1.015065\n",
       "5   1.177626    1.048099\n",
       "6   1.101678    1.016622\n",
       "7   1.154272    1.051312\n",
       "8   1.012914    1.020844\n",
       "9   1.057489    1.028038\n",
       "10  0.891623    1.012417\n",
       "11  0.235546    0.684697\n",
       "12  0.343076    1.055478\n",
       "13  0.743466    1.053658\n",
       "14  1.102865    1.057383\n",
       "15  1.064485    1.053349\n",
       "16  1.103734    0.698918\n",
       "17  1.692622    1.084951\n",
       "18  0.963547    1.059699\n",
       "19  0.955169    1.055143\n",
       "20  1.938329    1.098259\n",
       "21  0.857162    0.711954\n",
       "22  1.362264    1.025670"
      ]
     },
     "execution_count": 88,
     "metadata": {},
     "output_type": "execute_result"
    }
   ],
   "source": [
    "compare = pd.DataFrame({'Prediction': xgb4.predict(df[predictors]), 'Actual' : df['number_of_likes_over_mean']})\n",
    "compare.head(23)"
   ]
  },
  {
   "cell_type": "code",
   "execution_count": 81,
   "metadata": {
    "collapsed": true
   },
   "outputs": [],
   "source": [
    "Small_difference = abs((df[\"number_of_likes_over_mean\"].values) - xgb4.predict(df[predictors]))  < 0.1\n",
    "med_difference = abs((df[\"number_of_likes_over_mean\"].values) - xgb4.predict(df[predictors]))  < 0.25\n",
    "Big_difference = abs((df[\"number_of_likes_over_mean\"].values) - xgb4.predict(df[predictors]))  > 0.5"
   ]
  },
  {
   "cell_type": "code",
   "execution_count": 80,
   "metadata": {},
   "outputs": [
    {
     "data": {
      "text/plain": [
       "4273"
      ]
     },
     "execution_count": 80,
     "metadata": {},
     "output_type": "execute_result"
    }
   ],
   "source": [
    "df[Small_difference].shape[0]"
   ]
  },
  {
   "cell_type": "code",
   "execution_count": 82,
   "metadata": {},
   "outputs": [
    {
     "data": {
      "text/plain": [
       "9900"
      ]
     },
     "execution_count": 82,
     "metadata": {},
     "output_type": "execute_result"
    }
   ],
   "source": [
    "df[med_difference].shape[0]"
   ]
  },
  {
   "cell_type": "code",
   "execution_count": 75,
   "metadata": {
    "collapsed": true
   },
   "outputs": [],
   "source": [
    "idx_vals = df[Small_difference].index.values\n",
    "idx_big_vals = df[Big_difference].index.values\n",
    "compare1 = compare.ix[idx_vals]\n",
    "compare2 = compare.ix[idx_big_vals]"
   ]
  },
  {
   "cell_type": "code",
   "execution_count": 89,
   "metadata": {},
   "outputs": [
    {
     "data": {
      "text/html": [
       "<div>\n",
       "<style>\n",
       "    .dataframe thead tr:only-child th {\n",
       "        text-align: right;\n",
       "    }\n",
       "\n",
       "    .dataframe thead th {\n",
       "        text-align: left;\n",
       "    }\n",
       "\n",
       "    .dataframe tbody tr th {\n",
       "        vertical-align: top;\n",
       "    }\n",
       "</style>\n",
       "<table border=\"1\" class=\"dataframe\">\n",
       "  <thead>\n",
       "    <tr style=\"text-align: right;\">\n",
       "      <th></th>\n",
       "      <th>Prediction</th>\n",
       "      <th>Test Data</th>\n",
       "    </tr>\n",
       "  </thead>\n",
       "  <tbody>\n",
       "    <tr>\n",
       "      <th>3</th>\n",
       "      <td>1.049631</td>\n",
       "      <td>1.072790</td>\n",
       "    </tr>\n",
       "    <tr>\n",
       "      <th>4</th>\n",
       "      <td>1.015065</td>\n",
       "      <td>1.059753</td>\n",
       "    </tr>\n",
       "    <tr>\n",
       "      <th>8</th>\n",
       "      <td>1.020844</td>\n",
       "      <td>1.012914</td>\n",
       "    </tr>\n",
       "    <tr>\n",
       "      <th>9</th>\n",
       "      <td>1.028038</td>\n",
       "      <td>1.057489</td>\n",
       "    </tr>\n",
       "    <tr>\n",
       "      <th>14</th>\n",
       "      <td>1.057383</td>\n",
       "      <td>1.102865</td>\n",
       "    </tr>\n",
       "    <tr>\n",
       "      <th>15</th>\n",
       "      <td>1.053349</td>\n",
       "      <td>1.064485</td>\n",
       "    </tr>\n",
       "    <tr>\n",
       "      <th>23</th>\n",
       "      <td>1.055446</td>\n",
       "      <td>1.055596</td>\n",
       "    </tr>\n",
       "    <tr>\n",
       "      <th>34</th>\n",
       "      <td>1.063966</td>\n",
       "      <td>1.019667</td>\n",
       "    </tr>\n",
       "    <tr>\n",
       "      <th>40</th>\n",
       "      <td>1.007608</td>\n",
       "      <td>0.958649</td>\n",
       "    </tr>\n",
       "    <tr>\n",
       "      <th>46</th>\n",
       "      <td>1.027813</td>\n",
       "      <td>0.979036</td>\n",
       "    </tr>\n",
       "  </tbody>\n",
       "</table>\n",
       "</div>"
      ],
      "text/plain": [
       "    Prediction  Test Data\n",
       "3     1.049631   1.072790\n",
       "4     1.015065   1.059753\n",
       "8     1.020844   1.012914\n",
       "9     1.028038   1.057489\n",
       "14    1.057383   1.102865\n",
       "15    1.053349   1.064485\n",
       "23    1.055446   1.055596\n",
       "34    1.063966   1.019667\n",
       "40    1.007608   0.958649\n",
       "46    1.027813   0.979036"
      ]
     },
     "execution_count": 89,
     "metadata": {},
     "output_type": "execute_result"
    }
   ],
   "source": [
    "compare1.head(10)"
   ]
  },
  {
   "cell_type": "code",
   "execution_count": 91,
   "metadata": {},
   "outputs": [
    {
     "data": {
      "image/png": "[encoded data removed]",
      "text/plain": [
       "<matplotlib.figure.Figure at 0x22c0584f748>"
      ]
     },
     "metadata": {
      "needs_background": "light"
     },
     "output_type": "display_data"
    }
   ],
   "source": [
    "from  matplotlib import pyplot \n",
    "pyplot.scatter(df[\"number_of_likes_over_mean\"].values, xgb4.predict(df[predictors]))\n",
    "z = np.polyfit(df[\"number_of_likes_over_mean\"].values, xgb4.predict(df[predictors]), 1)\n",
    "p = np.poly1d(z)\n",
    "pyplot.plot(df[\"number_of_likes_over_mean\"].values,p(df[\"number_of_likes_over_mean\"].values),\"r--\")\n",
    "pyplot.title(\"Predicted Likes Over Mean vs True Likes Over Mean\")\n",
    "pyplot.xlabel(\"True Number of Likes Over Mean\")\n",
    "pyplot.ylabel(\"Predicted Number of Likes Over\")\n",
    "pyplot.show()"
   ]
  }
 ],
 "metadata": {
  "kernelspec": {
   "display_name": "Python 3",
   "language": "python",
   "name": "python3"
  },
  "language_info": {
   "codemirror_mode": {
    "name": "ipython",
    "version": 3
   },
   "file_extension": ".py",
   "mimetype": "text/x-python",
   "name": "python",
   "nbconvert_exporter": "python",
   "pygments_lexer": "ipython3",
   "version": "3.6.3"
  }
 },
 "nbformat": 4,
 "nbformat_minor": 2
}
